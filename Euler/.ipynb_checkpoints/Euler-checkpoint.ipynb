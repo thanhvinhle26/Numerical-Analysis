{
 "cells": [
  {
   "cell_type": "code",
   "execution_count": 1,
   "metadata": {},
   "outputs": [],
   "source": [
    "import numpy as np\n",
    "import matplotlib.pyplot as plt"
   ]
  },
  {
   "cell_type": "code",
   "execution_count": 2,
   "metadata": {},
   "outputs": [],
   "source": [
    "#Truyền vào f(x,y)\n",
    "def input_func(x,y):\n",
    "    return x+y\n"
   ]
  },
  {
   "cell_type": "code",
   "execution_count": 3,
   "metadata": {},
   "outputs": [],
   "source": [
    "#Hàm euler trả về giá trị y tương ứng với mỗi x\n",
    "def euler(x,y0,h,epsi):\n",
    "    n=len(x)\n",
    "    y=np.zeros(n)\n",
    "    y[0]=y0\n",
    "    i=1\n",
    "    j=0\n",
    "    \n",
    "    \n",
    "    while i<n:\n",
    "        flag1=True\n",
    "        while flag1:\n",
    "            if j==0:\n",
    "                y[i]=y[i-1]+h*input_func(x[i-1],y[i-1])\n",
    "                \n",
    "            else :\n",
    "                temp=y[i]\n",
    "                y[i]=y[i-1]+(h/2)*(input_func(x[i-1],y[i-1])+input_func(x[i-1]+h,temp))\n",
    "                if np.abs(temp-y[i])<epsi:\n",
    "                    flag1=False\n",
    "            j+=1\n",
    "        i+=1\n",
    "    return y  \n",
    "    "
   ]
  },
  {
   "cell_type": "code",
   "execution_count": 4,
   "metadata": {},
   "outputs": [],
   "source": [
    "#Khai báo mảng x bắt đầu từ 0 kết thúc tại 1 và h=0.05\n",
    "x=np.linspace(0,1,21)"
   ]
  },
  {
   "cell_type": "code",
   "execution_count": 5,
   "metadata": {},
   "outputs": [
    {
     "data": {
      "text/plain": [
       "array([0.  , 0.05, 0.1 , 0.15, 0.2 , 0.25, 0.3 , 0.35, 0.4 , 0.45, 0.5 ,\n",
       "       0.55, 0.6 , 0.65, 0.7 , 0.75, 0.8 , 0.85, 0.9 , 0.95, 1.  ])"
      ]
     },
     "execution_count": 5,
     "metadata": {},
     "output_type": "execute_result"
    }
   ],
   "source": [
    "x"
   ]
  },
  {
   "cell_type": "code",
   "execution_count": 6,
   "metadata": {},
   "outputs": [],
   "source": [
    "#Trả về giá trị y tương ứng bằng hàm euler\n",
    "y=euler(x,1,1/20,1e-4)"
   ]
  },
  {
   "cell_type": "code",
   "execution_count": 7,
   "metadata": {},
   "outputs": [
    {
     "data": {
      "text/plain": [
       "array([1.        , 1.0525625 , 1.11038578, 1.17373844, 1.24290403,\n",
       "       1.31818065, 1.39988167, 1.48833656, 1.58389166, 1.68691109,\n",
       "       1.79777762, 1.91689367, 2.04468229, 2.18158823, 2.32807902,\n",
       "       2.48464621, 2.65180651, 2.83010318, 3.02010729, 3.22241922,\n",
       "       3.43767015])"
      ]
     },
     "execution_count": 7,
     "metadata": {},
     "output_type": "execute_result"
    }
   ],
   "source": [
    "y"
   ]
  },
  {
   "cell_type": "code",
   "execution_count": 9,
   "metadata": {},
   "outputs": [],
   "source": [
    "#Import chương trình bình phương tối thiểu đã code ở bài trước\n",
    "import mse "
   ]
  },
  {
   "cell_type": "code",
   "execution_count": 10,
   "metadata": {},
   "outputs": [
    {
     "name": "stdout",
     "output_type": "stream",
     "text": [
      "Input satisfied\n"
     ]
    }
   ],
   "source": [
    "#Kiểm tra đầu vào\n",
    "mse.checkinput(x,y)"
   ]
  },
  {
   "cell_type": "code",
   "execution_count": 11,
   "metadata": {},
   "outputs": [
    {
     "data": {
      "image/png": "[encoded data removed]",
      "text/plain": [
       "<Figure size 432x288 with 1 Axes>"
      ]
     },
     "metadata": {
      "needs_background": "light"
     },
     "output_type": "display_data"
    }
   ],
   "source": [
    "#Vẽ đồ thị các điểm đã tìm được để dự đoán cơ sở\n",
    "mse.plot_input(x,y)"
   ]
  },
  {
   "cell_type": "code",
   "execution_count": 13,
   "metadata": {},
   "outputs": [],
   "source": [
    "#Truyền vào các cơ sở tương ứng bài này là 1 x e^x\n",
    "u=[mse.u,mse.u1,mse.u9]"
   ]
  },
  {
   "cell_type": "code",
   "execution_count": 14,
   "metadata": {},
   "outputs": [],
   "source": [
    "#Tìm theta bình phương tối thiểu\n",
    "theta=mse.pack1(u,x)"
   ]
  },
  {
   "cell_type": "code",
   "execution_count": 15,
   "metadata": {},
   "outputs": [
    {
     "data": {
      "text/plain": [
       "array([[1.        , 0.        , 1.        ],\n",
       "       [1.        , 0.05      , 1.0512711 ],\n",
       "       [1.        , 0.1       , 1.10517092],\n",
       "       [1.        , 0.15      , 1.16183424],\n",
       "       [1.        , 0.2       , 1.22140276],\n",
       "       [1.        , 0.25      , 1.28402542],\n",
       "       [1.        , 0.3       , 1.34985881],\n",
       "       [1.        , 0.35      , 1.41906755],\n",
       "       [1.        , 0.4       , 1.4918247 ],\n",
       "       [1.        , 0.45      , 1.56831219],\n",
       "       [1.        , 0.5       , 1.64872127],\n",
       "       [1.        , 0.55      , 1.73325302],\n",
       "       [1.        , 0.6       , 1.8221188 ],\n",
       "       [1.        , 0.65      , 1.91554083],\n",
       "       [1.        , 0.7       , 2.01375271],\n",
       "       [1.        , 0.75      , 2.11700002],\n",
       "       [1.        , 0.8       , 2.22554093],\n",
       "       [1.        , 0.85      , 2.33964685],\n",
       "       [1.        , 0.9       , 2.45960311],\n",
       "       [1.        , 0.95      , 2.58570966],\n",
       "       [1.        , 1.        , 2.71828183]])"
      ]
     },
     "execution_count": 15,
     "metadata": {},
     "output_type": "execute_result"
    }
   ],
   "source": [
    "theta"
   ]
  },
  {
   "cell_type": "code",
   "execution_count": 16,
   "metadata": {},
   "outputs": [],
   "source": [
    "#Tìm M bình phương tối thiểu\n",
    "M=mse.pack2(theta)"
   ]
  },
  {
   "cell_type": "code",
   "execution_count": 17,
   "metadata": {},
   "outputs": [
    {
     "data": {
      "text/plain": [
       "array([[21.        , 10.5       , 36.23193669],\n",
       "       [10.5       ,  7.175     , 21.37762523],\n",
       "       [36.23193669, 21.37762523, 68.1383223 ]])"
      ]
     },
     "execution_count": 17,
     "metadata": {},
     "output_type": "execute_result"
    }
   ],
   "source": [
    "M"
   ]
  },
  {
   "cell_type": "code",
   "execution_count": 18,
   "metadata": {},
   "outputs": [],
   "source": [
    "#Tìm hệ số tương ứng với các cơ sở \n",
    "a=mse.pack3(theta,M,y)"
   ]
  },
  {
   "cell_type": "code",
   "execution_count": 19,
   "metadata": {},
   "outputs": [
    {
     "data": {
      "text/plain": [
       "array([-1.00103366, -1.00068481,  2.00103748])"
      ]
     },
     "execution_count": 19,
     "metadata": {},
     "output_type": "execute_result"
    }
   ],
   "source": [
    "a\n",
    "#==> y=-1 -1*x +2 *e^x"
   ]
  },
  {
   "cell_type": "code",
   "execution_count": 20,
   "metadata": {},
   "outputs": [
    {
     "data": {
      "image/png": "[encoded data removed]",
      "text/plain": [
       "<Figure size 432x288 with 1 Axes>"
      ]
     },
     "metadata": {
      "needs_background": "light"
     },
     "output_type": "display_data"
    }
   ],
   "source": [
    "#Vẽ đồ thị tương ứng với các cơ sở và hệ số tìm được\n",
    "mse.graphord2(x,y,a)"
   ]
  },
  {
   "cell_type": "code",
   "execution_count": null,
   "metadata": {},
   "outputs": [],
   "source": []
  }
 ],
 "metadata": {
  "kernelspec": {
   "display_name": "Python 3",
   "language": "python",
   "name": "python3"
  },
  "language_info": {
   "codemirror_mode": {
    "name": "ipython",
    "version": 3
   },
   "file_extension": ".py",
   "mimetype": "text/x-python",
   "name": "python",
   "nbconvert_exporter": "python",
   "pygments_lexer": "ipython3",
   "version": "3.7.4"
  }
 },
 "nbformat": 4,
 "nbformat_minor": 2
}
