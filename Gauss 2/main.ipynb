{
 "cells": [
  {
   "cell_type": "code",
   "execution_count": 5,
   "metadata": {},
   "outputs": [
    {
     "name": "stdout",
     "output_type": "stream",
     "text": [
      "p(x)=\n",
      "6.04+5.449999999999999(x-1.8)+3.1249999999999996(x-1.8)(x-1.6)+1.25000000000001(x-1.8)(x-1.6)(x-2.0)+-0.2604166666666842(x-1.8)(x-1.6)(x-2.0)(x-1.4)+-1.302083333333386(x-1.8)(x-1.6)(x-2.0)(x-1.4)(x-2.2)+1.5190972222222954(x-1.8)(x-1.6)(x-2.0)(x-1.4)(x-2.2)(x-1.2)\n"
     ]
    }
   ],
   "source": [
    "import numpy as np\n",
    "#Nhân đa thức với  (x-c)\n",
    "def  polyX(A,c):\n",
    "\tn=len(A)\n",
    "\tB=np.zeros(n+1)\n",
    "\tB[0]=A[0]\n",
    "\tfor i in range(n-1):\n",
    " \t\tB[i+1]=A[i+1]+A[i]*c\n",
    "\tB[n]=A[n-1]*c\n",
    "\treturn B\n",
    "#Nhân liên tiếp .VD mảng C=[a,b,c] thì nhân liên tiếp (x-a)(x-b)(x-c)\n",
    "def xpoly(C):\n",
    "\tn=len(C)\n",
    "\tA=np.array([1,C[0]])\n",
    "\tfor i in range(n-1):\n",
    "\t\tB=np.zeros(len(A)+1)\n",
    "\t\tB=polyX(A,C[i+1])\n",
    "\t\tA=B\n",
    "\treturn A\n",
    "\n",
    "#Bảng sai phân trung tâm\n",
    "def difer(y):\n",
    "\tn=len(y)\n",
    "\tL=np.zeros((n,n))\n",
    "\tfor i in range(n):\n",
    "\t\t\n",
    "\t\tif i==0:\n",
    "\t\t\tfor j in range(n):\n",
    "\n",
    "\t\t\t\tL[j,i]=y[j]\n",
    "\t\telse :\n",
    "\t\t\tfor j in range(n-i):\n",
    "\t\t\t\tL[i+j,i]=L[i+j,i-1]-L[i+j-1,i-1]\n",
    "\treturn L\n",
    "\n",
    "\n",
    "#Tính hệ số a : L:bảng sai phân ,h: khoang cach deu,t:so gia tri muon lay\n",
    "def coefgauss2(L,h,t):\n",
    "\tn,_=L.shape\n",
    "\tB=np.zeros(n)\n",
    "\tB[0]=L[t,0]\n",
    "\n",
    "\tfor i in range(1,n):\n",
    "        \n",
    "\t\tB[i]=L[t,i]\n",
    "\t\tB[i]=B[i]/(giaithua(i)*np.power(h,i))\n",
    "\t\tif i%2!=0:\n",
    "\t\t\tt+=1;\n",
    "\treturn B\n",
    "def giaithua(n):\n",
    "\tif n==0 or n==1:\n",
    "\t\treturn 1\n",
    "\telse:\n",
    "\t\treturn n*giaithua(n-1)\n",
    "\n",
    "\n",
    "\n",
    "#Biểu diễn công thức\n",
    "# x: mảng x,t:số giá trị muốn lấy,B:hệ số a\n",
    "def show(x,t,B):\n",
    "\tn=len(B)\n",
    "\ttempt1=\"{}\".format(B[0])\n",
    "\ttemp2=\"\"\n",
    "\tprint('p(x)=')\n",
    "\ta=1;\n",
    "\tfor i in range(1,n):\n",
    "\n",
    "\t\ttemp2+=\"(x-{})\".format(x[t])\n",
    "\t\tt=t+np.power(-1,i)*a\n",
    "\t\t\n",
    "\t\tif a<n and a>=0:\n",
    "\t\t\ta+=1\n",
    "\t\ttempt1+=\"+{}\".format(B[i])+temp2\n",
    "\treturn tempt1\n",
    "\n",
    "\n",
    "\n",
    "\n",
    "    \n",
    "\n",
    "\n"
   ]
  },
  {
   "cell_type": "code",
   "execution_count": 3,
   "metadata": {},
   "outputs": [],
   "source": [
    "x=np.array([1.2,1.4,1.6,1.8,2.0,2.2,2.4])\n",
    "y=np.array([3.32,4.05,4.95,6.04,7.38,9.02,11.02])"
   ]
  },
  {
   "cell_type": "code",
   "execution_count": 8,
   "metadata": {},
   "outputs": [
    {
     "name": "stdout",
     "output_type": "stream",
     "text": [
      "[[ 3.320e+00  0.000e+00  0.000e+00  0.000e+00  0.000e+00  0.000e+00\n",
      "   0.000e+00]\n",
      " [ 4.050e+00  7.300e-01  0.000e+00  0.000e+00  0.000e+00  0.000e+00\n",
      "   0.000e+00]\n",
      " [ 4.950e+00  9.000e-01  1.700e-01  0.000e+00  0.000e+00  0.000e+00\n",
      "   0.000e+00]\n",
      " [ 6.040e+00  1.090e+00  1.900e-01  2.000e-02  0.000e+00  0.000e+00\n",
      "   0.000e+00]\n",
      " [ 7.380e+00  1.340e+00  2.500e-01  6.000e-02  4.000e-02  0.000e+00\n",
      "   0.000e+00]\n",
      " [ 9.020e+00  1.640e+00  3.000e-01  5.000e-02 -1.000e-02 -5.000e-02\n",
      "   0.000e+00]\n",
      " [ 1.102e+01  2.000e+00  3.600e-01  6.000e-02  1.000e-02  2.000e-02\n",
      "   7.000e-02]]\n"
     ]
    }
   ],
   "source": [
    "#Bảng sai phân\n",
    "board=difer(y)\n",
    "print(difer(y))"
   ]
  },
  {
   "cell_type": "code",
   "execution_count": 10,
   "metadata": {},
   "outputs": [
    {
     "name": "stdout",
     "output_type": "stream",
     "text": [
      "[ 6.04        5.45        3.125       1.25       -0.26041667 -1.30208333\n",
      "  1.51909722]\n"
     ]
    }
   ],
   "source": [
    "#Hệ số \n",
    "coef=coefgauss2(board,0.2,3)\n",
    "print(coef)"
   ]
  },
  {
   "cell_type": "code",
   "execution_count": 11,
   "metadata": {},
   "outputs": [
    {
     "name": "stdout",
     "output_type": "stream",
     "text": [
      "p(x)=\n",
      "6.04+5.449999999999999(x-1.8)+3.1249999999999996(x-1.8)(x-1.6)+1.25000000000001(x-1.8)(x-1.6)(x-2.0)+-0.2604166666666842(x-1.8)(x-1.6)(x-2.0)(x-1.4)+-1.302083333333386(x-1.8)(x-1.6)(x-2.0)(x-1.4)(x-2.2)+1.5190972222222954(x-1.8)(x-1.6)(x-2.0)(x-1.4)(x-2.2)(x-1.2)\n"
     ]
    }
   ],
   "source": [
    "#biểu diễn\n",
    "print(show(x,3,coef))"
   ]
  },
  {
   "cell_type": "code",
   "execution_count": null,
   "metadata": {},
   "outputs": [],
   "source": []
  }
 ],
 "metadata": {
  "kernelspec": {
   "display_name": "Python 3",
   "language": "python",
   "name": "python3"
  },
  "language_info": {
   "codemirror_mode": {
    "name": "ipython",
    "version": 3
   },
   "file_extension": ".py",
   "mimetype": "text/x-python",
   "name": "python",
   "nbconvert_exporter": "python",
   "pygments_lexer": "ipython3",
   "version": "3.7.4"
  }
 },
 "nbformat": 4,
 "nbformat_minor": 2
}
