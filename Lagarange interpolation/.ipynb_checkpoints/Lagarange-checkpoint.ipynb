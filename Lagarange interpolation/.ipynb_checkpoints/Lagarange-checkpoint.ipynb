{
 "cells": [
  {
   "cell_type": "code",
   "execution_count": 80,
   "metadata": {},
   "outputs": [],
   "source": [
    "import numpy as np"
   ]
  },
  {
   "cell_type": "code",
   "execution_count": 81,
   "metadata": {},
   "outputs": [],
   "source": [
    "x=np.array([1,2,3,4,7])\n",
    "y=np.array([17,27.5,76,210.5,1970])"
   ]
  },
  {
   "cell_type": "code",
   "execution_count": 88,
   "metadata": {},
   "outputs": [],
   "source": [
    "#Tính tích A*(x-c)\n",
    "def polyx(A,c):\n",
    "    k=len(A)\n",
    "    B=np.zeros(k+1)\n",
    "    B[0]=A[0]\n",
    "    for i in range(k-1):\n",
    "        B[i+1]=A[i+1]-A[i]*c\n",
    "    B[k]=-A[k-1]*c\n",
    "    return B\n",
    "\n",
    "# Tính tích (x-c_0)(x-c_1)...(x-c_k), C=(c_i)\n",
    "def xpoly(C):\n",
    "    n=len(C)\n",
    "    L=np.zeros((n,n+1))\n",
    "    L[0,n-1]=1\n",
    "    L[0,n]=-C[0]\n",
    "    for i in range(n-1):\n",
    "        A=L[i,n-i-1:n+1]\n",
    "        c=C[i+1]\n",
    "        B=polyx(A,c)\n",
    "        L[i+1,n-i-2:n+1]=B\n",
    "    return L\n",
    "#Nội suy lagarange trả về mảng hệ số đa thức nội suy\n",
    "def lag_int(x,y):\n",
    "    n=len(x)\n",
    "    b=np.zeros(n)\n",
    "    for i in range(n):\n",
    "        pi=1\n",
    "        for j in range(n):\n",
    "            if i!=j:\n",
    "                pi*=x[i]-x[j]\n",
    "        b[i]=(1/pi)*y[i]\n",
    "    sum_temp=np.zeros(n)\n",
    "    for i in range(n):\n",
    "        list_temp=[]\n",
    "        for j in range(n):\n",
    "            if i!=j:\n",
    "                list_temp.append(x[j])\n",
    "        \n",
    "        sum_temp+=b[i]*xpoly(np.array(list_temp))[len(xpoly(np.array(list_temp)))-1,:]\n",
    "        \n",
    "    return sum_temp\n",
    "#Truyền vào giá trị x trả về y của đa thức nội suy\n",
    "def find_y(x,y,a):\n",
    "    poly=lag_int(x,y)\n",
    "    sum_temp=0\n",
    "    for i in range(len(poly)):\n",
    "        sum_temp+=poly[i]*(a**(len(poly)-1-i))\n",
    "    return sum_temp\n",
    "           \n",
    "        \n"
   ]
  },
  {
   "cell_type": "code",
   "execution_count": 89,
   "metadata": {},
   "outputs": [
    {
     "data": {
      "text/plain": [
       "array([ 1. , -2. ,  6. , -8.5, 20.5])"
      ]
     },
     "execution_count": 89,
     "metadata": {},
     "output_type": "execute_result"
    }
   ],
   "source": [
    "lag_int(x,y)"
   ]
  },
  {
   "cell_type": "code",
   "execution_count": 91,
   "metadata": {},
   "outputs": [
    {
     "data": {
      "text/plain": [
       "3408.499999999996"
      ]
     },
     "execution_count": 91,
     "metadata": {},
     "output_type": "execute_result"
    }
   ],
   "source": [
    "find_y(x,y,8)"
   ]
  },
  {
   "cell_type": "code",
   "execution_count": null,
   "metadata": {},
   "outputs": [],
   "source": []
  }
 ],
 "metadata": {
  "kernelspec": {
   "display_name": "Python 3",
   "language": "python",
   "name": "python3"
  },
  "language_info": {
   "codemirror_mode": {
    "name": "ipython",
    "version": 3
   },
   "file_extension": ".py",
   "mimetype": "text/x-python",
   "name": "python",
   "nbconvert_exporter": "python",
   "pygments_lexer": "ipython3",
   "version": "3.7.4"
  }
 },
 "nbformat": 4,
 "nbformat_minor": 2
}
