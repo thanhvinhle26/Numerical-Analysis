{
 "cells": [
  {
   "cell_type": "code",
   "execution_count": 10,
   "metadata": {},
   "outputs": [
    {
     "name": "stdout",
     "output_type": "stream",
     "text": [
      "Nhập vào a : 1\n",
      "Nhập vào b : 1.5\n",
      "Nhập vào sai số mong muốn : 0.003\n",
      "1.5\n",
      "0.1481481481481481\n",
      "0.03940918526538931\n",
      "0.009516524642870478\n",
      "0.0022413298859562648\n",
      "0.0005247265325670773\n"
     ]
    }
   ],
   "source": [
    "import numpy as np\n",
    "def ham(x):\n",
    "    return x**3-0.2*(x**2)-0.2*x-1.2\n",
    "def daohambac1(x):\n",
    "    return 3*(x**2)-0.4*x-0.2\n",
    "def daohambac2(a,b):\n",
    "    return list(map(lambda x:6*x-0.4,np.linspace(a,b,10000)))\n",
    "def check(a,b):\n",
    "    daoham=daohambac2(a,b)\n",
    "    daoham_a=list(map(lambda x :x*ham(a),daoham))\n",
    "    index_a=0\n",
    "    index_b=0\n",
    "    for i in daoham_a:\n",
    "        if i>=0:\n",
    "            index_a+=1\n",
    "    daoham_b=list(map(lambda x :x*ham(b),daoham))\n",
    "    for i in daoham_b:\n",
    "        if i>=0:\n",
    "            index_b+=1\n",
    "    if index_a==0 and ham(b)*ham(a)<0:\n",
    "        return a,b\n",
    "    elif index_b==0 and ham(b)*ham(a)<0:\n",
    "        return b,a\n",
    "    else:\n",
    "        print('Khoảng phân li nghiệm không thỏa mãn')\n",
    "        return False\n",
    "    \n",
    "            \n",
    "        \n",
    "def minham(a,b):\n",
    "    return min(list(map(daohambac1,np.linspace(a,b,10000))))\n",
    "def maxham(a,b):\n",
    "    return max(list(map(daohambac1,np.linspace(a,b,10000))))\n",
    "a=float(input('Nhập vào a : '))\n",
    "b=float(input('Nhập vào b : '))\n",
    "epsi=float(input('Nhập vào sai số mong muốn : '))\n",
    "if check!=False:\n",
    "    x_now,d=check(a,b)\n",
    "    print(d)\n",
    "    \n",
    "while True:\n",
    "    x_next=x_now-((d-x_now)*ham(x_now))/(ham(d)-ham(x_now))\n",
    "    print(-((d-x_now)*ham(x_now))/(ham(d)-ham(x_now)))\n",
    "    \n",
    "    #print(x_now)\n",
    "    if (((maxham(a,b)-minham(a,b))/minham(a,b))*np.abs(x_now-x_next))<epsi:\n",
    "        break\n",
    "    \n",
    "    x_now=x_next\n",
    "    \n",
    "    \n",
    "    \n",
    "    "
   ]
  },
  {
   "cell_type": "code",
   "execution_count": null,
   "metadata": {},
   "outputs": [],
   "source": []
  },
  {
   "cell_type": "code",
   "execution_count": null,
   "metadata": {},
   "outputs": [],
   "source": []
  },
  {
   "cell_type": "code",
   "execution_count": null,
   "metadata": {},
   "outputs": [],
   "source": []
  }
 ],
 "metadata": {
  "kernelspec": {
   "display_name": "Python 3",
   "language": "python",
   "name": "python3"
  },
  "language_info": {
   "codemirror_mode": {
    "name": "ipython",
    "version": 3
   },
   "file_extension": ".py",
   "mimetype": "text/x-python",
   "name": "python",
   "nbconvert_exporter": "python",
   "pygments_lexer": "ipython3",
   "version": "3.7.4"
  }
 },
 "nbformat": 4,
 "nbformat_minor": 2
}
