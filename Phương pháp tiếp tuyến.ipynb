{
 "cells": [
  {
   "cell_type": "code",
   "execution_count": 3,
   "metadata": {},
   "outputs": [
    {
     "name": "stdout",
     "output_type": "stream",
     "text": [
      "Nhập vào a : 0.01\n",
      "Nhập vào a : 1\n",
      "Nhập vào sai số mong muốn : 1e-5\n",
      "Nghiệm thứ 1: 0.916666731394959 \n",
      "Nghiệm thứ 2: 0.8365021360723581 \n",
      "Nghiệm thứ 3: 0.7593533780277855 \n",
      "Nghiệm thứ 4: 0.6850672898567104 \n",
      "Nghiệm thứ 5: 0.6134883304640558 \n",
      "Nghiệm thứ 6: 0.5444561224284228 \n",
      "Nghiệm thứ 7: 0.4778030740434816 \n",
      "Nghiệm thứ 8: 0.4133541591466051 \n",
      "Nghiệm thứ 9: 0.3509356688318735 \n",
      "Nghiệm thứ 10: 0.2904134250471394 \n",
      "Nghiệm thứ 11: 0.23181855374747795 \n",
      "Nghiệm thứ 12: 0.17571247155621714 \n",
      "Nghiệm thứ 13: 0.12410498048280208 \n",
      "Nghiệm thứ 14: 0.08205277912505127 \n",
      "Nghiệm thứ 15: 0.05723537556549681 \n",
      "Nghiệm thứ 16: 0.050286720726029445 \n",
      "Nghiệm thứ 17: 0.04984782533772908 \n"
     ]
    }
   ],
   "source": [
    "import numpy as np\n",
    "# Hàm để tính nghiệm (Có thể thay đổi tùy ý)\n",
    "def f(x):\n",
    "    return ((1+x)**26-(1+x))/x-50\n",
    "#Tính đạo hàm bậc 1 tại một điểm\n",
    "def df(x):\n",
    "    epsi=1e-7\n",
    "    return (f(x+epsi)-f(x-epsi))/(2*epsi)\n",
    "#Tính đạo hàm bậc 2 tại 1 điểm\n",
    "def ddf(x):\n",
    "    return (df(x+epsi)-df(x-epsi))/(2*epsi)\n",
    "#Tính min của đạo hàm bậc 1 trên 1 khoảng cho trước có thể tăng số điểm chia để lấy độ chính xác cao hơn\n",
    "def mindf(a,b):\n",
    "    return min(np.abs(list(map(df,np.linspace(a,b,10000)))))\n",
    "#Kiểm tra tính đơn điệu của đạo hàm bậc 1 trên 1 khoảng cho trước\n",
    "def check_bac1(a,b):\n",
    "    day=list(map(df,np.linspace(a,b,10000)))\n",
    "    dem_duong=0\n",
    "    dem_am=0\n",
    "    for i in day:\n",
    "        if i>0:\n",
    "            dem_duong+=1\n",
    "        elif i<0:\n",
    "            dem_am+=1\n",
    "        else:\n",
    "            dem_duong+=1\n",
    "            dem_am+=1\n",
    "    if dem_duong==len(day) or dem_am==len(day):\n",
    "        return True\n",
    "    else:\n",
    "        return False\n",
    "#Kiểm tra tính đơn điệu của đạo hàm bậc 2 trên 1 khoảng cho trước\n",
    "def check_bac2(a,b):\n",
    "    day=list(map(ddf,np.linspace(a,b,10000)))\n",
    "    dem_duong=0\n",
    "    dem_am=0\n",
    "    for i in day:\n",
    "        if i>0:\n",
    "            dem_duong+=1\n",
    "        elif i<0:\n",
    "            dem_am+=1\n",
    "        else:\n",
    "            dem_duong+=1\n",
    "            dem_am+=1\n",
    "    if dem_duong==len(day) or dem_am==len(day):\n",
    "        return True\n",
    "    else:\n",
    "        return False\n",
    "#Hàm lấy dấu của đạo hàm bậc 2\n",
    "def signddf(a,b):\n",
    "    day=list(map(ddf,np.linspace(a,b,10000)))\n",
    "    dem_duong=0\n",
    "    dem_am=0\n",
    "    for i in day:\n",
    "        if i>0:\n",
    "            dem_duong+=1\n",
    "        elif i<0:\n",
    "            dem_am+=1\n",
    "    if dem_duong==len(day):\n",
    "        return 1\n",
    "    elif dem_am==len(day):\n",
    "        return -1\n",
    "#Nhập các thông số cần thiết\n",
    "a=float(input('Nhập vào a : '))\n",
    "b=float(input('Nhập vào a : '))\n",
    "epsi=float(input('Nhập vào sai số mong muốn : '))\n",
    "x=a\n",
    "m=mindf(a,b)\n",
    "dem=0\n",
    "if check_bac1(a,b):\n",
    "    if check_bac2(a,b):\n",
    "        #Kiểm tra điều kiện đề chọn x0\n",
    "        if f(a)*signddf(a,b)>0:\n",
    "            x=a\n",
    "        elif f(b)*signddf(a,b)>0:\n",
    "            x=b\n",
    "        while np.abs(f(x))/m>epsi:\n",
    "            x=x-f(x)/df(x)\n",
    "            dem+=1\n",
    "            print('Nghiệm thứ {}: {} '.format(dem,x))\n",
    "    else:\n",
    "        print('Chọn lại khoảng phân ly nghiệm')\n",
    "else:\n",
    "    print('Chọn lại khoảng phân ly nghiệm')"
   ]
  },
  {
   "cell_type": "code",
   "execution_count": 33,
   "metadata": {},
   "outputs": [
    {
     "data": {
      "text/plain": [
       "False"
      ]
     },
     "execution_count": 33,
     "metadata": {},
     "output_type": "execute_result"
    }
   ],
   "source": [
    "check_bac1(0,1)"
   ]
  },
  {
   "cell_type": "code",
   "execution_count": 39,
   "metadata": {},
   "outputs": [],
   "source": [
    "day=list(map(df,np.linspace(0,1,10000)))"
   ]
  },
  {
   "cell_type": "code",
   "execution_count": 46,
   "metadata": {},
   "outputs": [],
   "source": [
    "day=np.array(day)"
   ]
  },
  {
   "cell_type": "code",
   "execution_count": 47,
   "metadata": {},
   "outputs": [
    {
     "data": {
      "text/plain": [
       "array([-4.00000000e+00, -3.99959996e+00, -3.99919992e+00, ...,\n",
       "       -8.00080002e-04, -4.00040001e-04,  0.00000000e+00])"
      ]
     },
     "execution_count": 47,
     "metadata": {},
     "output_type": "execute_result"
    }
   ],
   "source": [
    "day"
   ]
  },
  {
   "cell_type": "code",
   "execution_count": 50,
   "metadata": {},
   "outputs": [
    {
     "data": {
      "text/plain": [
       "array([0.])"
      ]
     },
     "execution_count": 50,
     "metadata": {},
     "output_type": "execute_result"
    }
   ],
   "source": [
    "day[day==0]"
   ]
  },
  {
   "cell_type": "code",
   "execution_count": null,
   "metadata": {},
   "outputs": [],
   "source": []
  }
 ],
 "metadata": {
  "kernelspec": {
   "display_name": "Python 3",
   "language": "python",
   "name": "python3"
  },
  "language_info": {
   "codemirror_mode": {
    "name": "ipython",
    "version": 3
   },
   "file_extension": ".py",
   "mimetype": "text/x-python",
   "name": "python",
   "nbconvert_exporter": "python",
   "pygments_lexer": "ipython3",
   "version": "3.7.4"
  }
 },
 "nbformat": 4,
 "nbformat_minor": 2
}
