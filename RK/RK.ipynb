{
 "cells": [
  {
   "cell_type": "code",
   "execution_count": 1,
   "metadata": {},
   "outputs": [],
   "source": [
    "#Hàm nhập\n",
    "def ham(x,y):\n",
    "    return x+y\n",
    "def Runghe_Kutta(x0,y0,min_x,max_x,h):\n",
    "    y=[]\n",
    "    x=[]\n",
    "    y.append(y0)\n",
    "    x.append(x0)\n",
    "    while x0 < max_x:\n",
    "        k1=h*ham(x0,y0)\n",
    "        print(k1)\n",
    "        k2=h*ham(x0+h/2,y0+k1/2)\n",
    "        print(k2)\n",
    "        k3=h*ham(x0+h,y0+k2/2)\n",
    "        print(k3)\n",
    "        k4=h*ham(x0+h,y0+k3)\n",
    "        print(k4)\n",
    "        y0=y0+(1/6)*(k1+2*k2+2*k3+k4)\n",
    "        x0+=h\n",
    "        y.append(y0)\n",
    "        x.append(x0)\n",
    "    return x,y\n",
    "        "
   ]
  },
  {
   "cell_type": "code",
   "execution_count": 2,
   "metadata": {},
   "outputs": [
    {
     "name": "stdout",
     "output_type": "stream",
     "text": [
      "0.1\n",
      "0.11000000000000001\n",
      "0.1155\n",
      "0.12155\n",
      "0.12120916666666669\n",
      "0.132269625\n",
      "0.13782264791666668\n",
      "0.14499143145833335\n",
      "0.14464891906597221\n",
      "0.15688136501927086\n",
      "0.1624929873169358\n",
      "0.1708982177976658\n",
      "0.17055384975823976\n",
      "0.18408154224615175\n",
      "0.18975792687054735\n",
      "0.1995296424452945\n",
      "0.1991832235988553\n",
      "0.21414238477879805\n",
      "0.21989034283779518\n",
      "0.23117225788263485\n"
     ]
    }
   ],
   "source": [
    "x,y=Runghe_Kutta(0,1,0,0.5,0.1)"
   ]
  },
  {
   "cell_type": "code",
   "execution_count": 3,
   "metadata": {},
   "outputs": [],
   "source": [
    "import matplotlib.pyplot as plt"
   ]
  },
  {
   "cell_type": "code",
   "execution_count": 4,
   "metadata": {},
   "outputs": [
    {
     "data": {
      "text/plain": [
       "[<matplotlib.lines.Line2D at 0x1ff40e24a08>]"
      ]
     },
     "execution_count": 4,
     "metadata": {},
     "output_type": "execute_result"
    },
    {
     "data": {
      "image/png": "[encoded data removed]",
      "text/plain": [
       "<Figure size 432x288 with 1 Axes>"
      ]
     },
     "metadata": {
      "needs_background": "light"
     },
     "output_type": "display_data"
    }
   ],
   "source": [
    "plt.plot(x,y)"
   ]
  },
  {
   "cell_type": "code",
   "execution_count": 5,
   "metadata": {},
   "outputs": [],
   "source": [
    "import mse"
   ]
  },
  {
   "cell_type": "code",
   "execution_count": 6,
   "metadata": {},
   "outputs": [
    {
     "name": "stdout",
     "output_type": "stream",
     "text": [
      "Input satisfied\n"
     ]
    }
   ],
   "source": [
    "mse.checkinput(x,y)"
   ]
  },
  {
   "cell_type": "code",
   "execution_count": 7,
   "metadata": {},
   "outputs": [
    {
     "data": {
      "image/png": "[encoded data removed]",
      "text/plain": [
       "<Figure size 432x288 with 1 Axes>"
      ]
     },
     "metadata": {
      "needs_background": "light"
     },
     "output_type": "display_data"
    }
   ],
   "source": [
    "mse.plot_input(x,y)"
   ]
  },
  {
   "cell_type": "code",
   "execution_count": 16,
   "metadata": {},
   "outputs": [],
   "source": [
    "u=[mse.u,mse.u2,mse.u9]"
   ]
  },
  {
   "cell_type": "code",
   "execution_count": 17,
   "metadata": {},
   "outputs": [],
   "source": [
    "theta=mse.pack1(u,x)"
   ]
  },
  {
   "cell_type": "code",
   "execution_count": 18,
   "metadata": {},
   "outputs": [
    {
     "data": {
      "text/plain": [
       "array([[1.        , 0.        , 1.        ],\n",
       "       [1.        , 0.01      , 1.10517092],\n",
       "       [1.        , 0.04      , 1.22140276],\n",
       "       [1.        , 0.09      , 1.34985881],\n",
       "       [1.        , 0.16      , 1.4918247 ],\n",
       "       [1.        , 0.25      , 1.64872127]])"
      ]
     },
     "execution_count": 18,
     "metadata": {},
     "output_type": "execute_result"
    }
   ],
   "source": [
    "theta"
   ]
  },
  {
   "cell_type": "code",
   "execution_count": 19,
   "metadata": {},
   "outputs": [],
   "source": [
    "M=mse.pack2(theta)"
   ]
  },
  {
   "cell_type": "code",
   "execution_count": 20,
   "metadata": {},
   "outputs": [
    {
     "data": {
      "text/plain": [
       "array([[ 6.        ,  0.55      ,  7.81697845],\n",
       "       [ 0.55      ,  0.0979    ,  0.83226738],\n",
       "       [ 7.81697845,  0.83226738, 10.47916901]])"
      ]
     },
     "execution_count": 20,
     "metadata": {},
     "output_type": "execute_result"
    }
   ],
   "source": [
    "M"
   ]
  },
  {
   "cell_type": "code",
   "execution_count": 21,
   "metadata": {},
   "outputs": [],
   "source": [
    "a=mse.pack3(theta,M,y)"
   ]
  },
  {
   "cell_type": "code",
   "execution_count": 22,
   "metadata": {},
   "outputs": [
    {
     "data": {
      "text/plain": [
       "array([0.01252573, 0.66364498, 0.98810919])"
      ]
     },
     "execution_count": 22,
     "metadata": {},
     "output_type": "execute_result"
    }
   ],
   "source": [
    "a"
   ]
  },
  {
   "cell_type": "code",
   "execution_count": 23,
   "metadata": {},
   "outputs": [
    {
     "data": {
      "image/png": "[encoded data removed]",
      "text/plain": [
       "<Figure size 432x288 with 1 Axes>"
      ]
     },
     "metadata": {
      "needs_background": "light"
     },
     "output_type": "display_data"
    }
   ],
   "source": [
    "mse.graphord2(x,y,a)"
   ]
  },
  {
   "cell_type": "code",
   "execution_count": null,
   "metadata": {},
   "outputs": [],
   "source": []
  }
 ],
 "metadata": {
  "kernelspec": {
   "display_name": "Python 3",
   "language": "python",
   "name": "python3"
  },
  "language_info": {
   "codemirror_mode": {
    "name": "ipython",
    "version": 3
   },
   "file_extension": ".py",
   "mimetype": "text/x-python",
   "name": "python",
   "nbconvert_exporter": "python",
   "pygments_lexer": "ipython3",
   "version": "3.7.4"
  }
 },
 "nbformat": 4,
 "nbformat_minor": 2
}
