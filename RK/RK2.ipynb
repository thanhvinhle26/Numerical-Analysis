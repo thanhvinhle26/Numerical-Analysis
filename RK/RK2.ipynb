{
 "cells": [
  {
   "cell_type": "code",
   "execution_count": 87,
   "metadata": {},
   "outputs": [],
   "source": [
    "# Hàm f\n",
    "def f(x,y,z):\n",
    "    return z\n",
    "def g(x,y,z):\n",
    "    return x*(y**2)*(1+math.sin(x*y))+y*(x**3)\n",
    "def RK2(x0,y0,z0,min_x,max_x,h):\n",
    "    x=[]\n",
    "    y=[]\n",
    "    x.append(x0)\n",
    "    y.append(y0)\n",
    "    while x0<max_x:\n",
    "        k1=h*f(x0,y0,z0)\n",
    "        l1=h*g(x0,y0,z0)\n",
    "        k2=h*f(x0+h/2,y0+k1/2,z0+l1/2)\n",
    "        l2=h*g(x0+h/2,y0+k1/2,z0+l1/2)\n",
    "        k3=h*f(x0+h/2,y0+k2/2,z0+l2/2)\n",
    "        l3=h*g(x0+h/2,y0+k2/2,z0+l2/2)\n",
    "        k4=h*f(x0+h,y0+k3,z0+l3)\n",
    "        l4=h*g(x0+h,y0+k3,z0+l3)\n",
    "        x0+=h\n",
    "        y0=y0+(1/6)*(k1+2*k2+2*k3+k4)\n",
    "        z0=z0+(1/6)*(l1+2*l2+2*l3+l4)\n",
    "        x.append(x0)\n",
    "        y.append(y0)\n",
    "    return x,y"
   ]
  },
  {
   "cell_type": "code",
   "execution_count": 88,
   "metadata": {},
   "outputs": [],
   "source": [
    "x,y=RK2(0,1,1,0,1,0.05)"
   ]
  },
  {
   "cell_type": "code",
   "execution_count": 89,
   "metadata": {},
   "outputs": [],
   "source": [
    "import matplotlib.pyplot as plt"
   ]
  },
  {
   "cell_type": "code",
   "execution_count": 90,
   "metadata": {},
   "outputs": [
    {
     "data": {
      "text/plain": [
       "[<matplotlib.lines.Line2D at 0x23608801208>]"
      ]
     },
     "execution_count": 90,
     "metadata": {},
     "output_type": "execute_result"
    },
    {
     "data": {
      "image/png": "[encoded data removed]",
      "text/plain": [
       "<Figure size 432x288 with 1 Axes>"
      ]
     },
     "metadata": {
      "needs_background": "light"
     },
     "output_type": "display_data"
    }
   ],
   "source": [
    "plt.plot(x,y)"
   ]
  },
  {
   "cell_type": "code",
   "execution_count": 91,
   "metadata": {},
   "outputs": [],
   "source": [
    "import mse\n",
    "import math\n",
    "import numpy as np"
   ]
  },
  {
   "cell_type": "code",
   "execution_count": 92,
   "metadata": {},
   "outputs": [
    {
     "name": "stdout",
     "output_type": "stream",
     "text": [
      "Input satisfied\n"
     ]
    }
   ],
   "source": [
    "mse.checkinput(x,y)"
   ]
  },
  {
   "cell_type": "code",
   "execution_count": 93,
   "metadata": {},
   "outputs": [
    {
     "data": {
      "image/png": "[encoded data removed]",
      "text/plain": [
       "<Figure size 432x288 with 1 Axes>"
      ]
     },
     "metadata": {
      "needs_background": "light"
     },
     "output_type": "display_data"
    }
   ],
   "source": [
    "mse.plot_input(x,y)"
   ]
  },
  {
   "cell_type": "code",
   "execution_count": 94,
   "metadata": {},
   "outputs": [],
   "source": [
    "def ln(x):\n",
    "    return math.log(x+1)"
   ]
  },
  {
   "cell_type": "code",
   "execution_count": 107,
   "metadata": {},
   "outputs": [],
   "source": [
    "u=[mse.u,mse.u1,mse.u3,mse.u9]"
   ]
  },
  {
   "cell_type": "code",
   "execution_count": 108,
   "metadata": {},
   "outputs": [],
   "source": [
    "theta=mse.pack1(u,x)"
   ]
  },
  {
   "cell_type": "code",
   "execution_count": 109,
   "metadata": {},
   "outputs": [],
   "source": [
    "M=mse.pack2(theta)"
   ]
  },
  {
   "cell_type": "code",
   "execution_count": 110,
   "metadata": {},
   "outputs": [
    {
     "data": {
      "text/plain": [
       "array([[21.        , 10.5       ,  5.5125    , 36.23193669],\n",
       "       [10.5       ,  7.175     ,  4.5166625 , 21.37762523],\n",
       "       [ 5.5125    ,  4.5166625 ,  3.38212203, 12.67315747],\n",
       "       [36.23193669, 21.37762523, 12.67315747, 68.1383223 ]])"
      ]
     },
     "execution_count": 110,
     "metadata": {},
     "output_type": "execute_result"
    }
   ],
   "source": [
    "M"
   ]
  },
  {
   "cell_type": "code",
   "execution_count": 111,
   "metadata": {},
   "outputs": [],
   "source": [
    "a=mse.pack3(theta,M,y)"
   ]
  },
  {
   "cell_type": "code",
   "execution_count": 112,
   "metadata": {},
   "outputs": [
    {
     "data": {
      "text/plain": [
       "array([ 4.82915109,  5.29561392,  3.19398536, -3.84735513])"
      ]
     },
     "execution_count": 112,
     "metadata": {},
     "output_type": "execute_result"
    }
   ],
   "source": [
    "a"
   ]
  },
  {
   "cell_type": "code",
   "execution_count": 113,
   "metadata": {},
   "outputs": [],
   "source": [
    "def graphord2(x,y,a):\n",
    "    x_test=np.linspace(min(x),max(x),100000)\n",
    "    y_test=np.array(list(map(lambda x:a[0]+a[1]*x+a[2]*(x**3)+a[3]*np.exp(x),x_test)))\n",
    "    plt.scatter(x,y,s=30,cmap='palete')\n",
    "    plt.plot(x_test,y_test,'r')"
   ]
  },
  {
   "cell_type": "code",
   "execution_count": 114,
   "metadata": {},
   "outputs": [
    {
     "data": {
      "image/png": "[encoded data removed]",
      "text/plain": [
       "<Figure size 432x288 with 1 Axes>"
      ]
     },
     "metadata": {
      "needs_background": "light"
     },
     "output_type": "display_data"
    }
   ],
   "source": [
    "graphord2(x,y,a)"
   ]
  },
  {
   "cell_type": "code",
   "execution_count": 115,
   "metadata": {},
   "outputs": [
    {
     "data": {
      "text/plain": [
       "[1,\n",
       " 1.0500224621863405,\n",
       " 1.1001942795036181,\n",
       " 1.1507096487854662,\n",
       " 1.201822684548274,\n",
       " 1.253861337769919,\n",
       " 1.307243611244321,\n",
       " 1.3624965327935221,\n",
       " 1.4202785257599049,\n",
       " 1.481406030825197,\n",
       " 1.5468854567862118,\n",
       " 1.6179516984341427,\n",
       " 1.696114392436175,\n",
       " 1.7832124325445649,\n",
       " 1.8814752999362878,\n",
       " 1.9935850258074181,\n",
       " 2.1227223662366206,\n",
       " 2.2725604796497914,\n",
       " 2.4471332770520533,\n",
       " 2.650452790359154,\n",
       " 2.8857074822316653]"
      ]
     },
     "execution_count": 115,
     "metadata": {},
     "output_type": "execute_result"
    }
   ],
   "source": [
    "y"
   ]
  },
  {
   "cell_type": "code",
   "execution_count": 104,
   "metadata": {},
   "outputs": [
    {
     "data": {
      "text/plain": [
       "[0,\n",
       " 0.05,\n",
       " 0.1,\n",
       " 0.15000000000000002,\n",
       " 0.2,\n",
       " 0.25,\n",
       " 0.3,\n",
       " 0.35,\n",
       " 0.39999999999999997,\n",
       " 0.44999999999999996,\n",
       " 0.49999999999999994,\n",
       " 0.5499999999999999,\n",
       " 0.6,\n",
       " 0.65,\n",
       " 0.7000000000000001,\n",
       " 0.7500000000000001,\n",
       " 0.8000000000000002,\n",
       " 0.8500000000000002,\n",
       " 0.9000000000000002,\n",
       " 0.9500000000000003,\n",
       " 1.0000000000000002]"
      ]
     },
     "execution_count": 104,
     "metadata": {},
     "output_type": "execute_result"
    }
   ],
   "source": [
    "x"
   ]
  },
  {
   "cell_type": "code",
   "execution_count": null,
   "metadata": {},
   "outputs": [],
   "source": []
  }
 ],
 "metadata": {
  "kernelspec": {
   "display_name": "Python 3",
   "language": "python",
   "name": "python3"
  },
  "language_info": {
   "codemirror_mode": {
    "name": "ipython",
    "version": 3
   },
   "file_extension": ".py",
   "mimetype": "text/x-python",
   "name": "python",
   "nbconvert_exporter": "python",
   "pygments_lexer": "ipython3",
   "version": "3.7.4"
  }
 },
 "nbformat": 4,
 "nbformat_minor": 2
}
