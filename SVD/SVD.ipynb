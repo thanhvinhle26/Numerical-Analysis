{
 "cells": [
  {
   "cell_type": "code",
   "execution_count": 1,
   "metadata": {},
   "outputs": [],
   "source": [
    "import numpy as np\n",
    "import math"
   ]
  },
  {
   "cell_type": "code",
   "execution_count": 2,
   "metadata": {},
   "outputs": [],
   "source": [
    "file_name='input.txt'\n",
    "outputfile_name='output.txt'\n",
    "def open_file(file_name):\n",
    "    A=[]\n",
    "    with open(file_name,\"r\") as file:\n",
    "        n=int(file.readline()[0])\n",
    "        for _ in range(n):\n",
    "            line=file.readline()[:-1]\n",
    "            A.append(list(map(lambda x:float(x),line.split(\" \"))))\n",
    "    return np.array(A) \n",
    "A=open_file(file_name)"
   ]
  },
  {
   "cell_type": "code",
   "execution_count": 3,
   "metadata": {},
   "outputs": [
    {
     "data": {
      "text/plain": [
       "array([[2., 4.],\n",
       "       [1., 3.],\n",
       "       [0., 0.],\n",
       "       [0., 0.]])"
      ]
     },
     "execution_count": 3,
     "metadata": {},
     "output_type": "execute_result"
    }
   ],
   "source": [
    "A"
   ]
  },
  {
   "cell_type": "code",
   "execution_count": 4,
   "metadata": {},
   "outputs": [],
   "source": [
    "def danhilepski(A):\n",
    "    v=[]\n",
    "    n,_=A.shape\n",
    "    i=n-1\n",
    "    m=n-1\n",
    "    back=np.eye(n)\n",
    "    while i>0:\n",
    "        \n",
    "        if A[i,i-1]!=0:\n",
    "            M=np.eye(m+1)\n",
    "            M[i-1,:]=A[i,:]\n",
    "            M1=np.eye(m+1)\n",
    "            M1[i-1,:]=-A[i,:]/A[i,i-1]\n",
    "            M1[i-1,i-1]=1/A[i,i-1]\n",
    "            back=back@M1\n",
    "            A=M@A@M1\n",
    "            \n",
    "        else:\n",
    "            non=False\n",
    "            for j in range(i-1):                \n",
    "                if A[i,j]!=0:\n",
    "                    tempt=A[i-1,:]\n",
    "                    A[i-1,:]=A[j,:]\n",
    "                    A[j,:]=tempt\n",
    "                    tempt=A[:,i-1]\n",
    "                    A[:,i-1]=A[:,j]\n",
    "                    A[:,j]=tempt\n",
    "                    tempt=back[:,i-1]\n",
    "                    back[:,i-1]=back[:,j]\n",
    "                    back[:,j]=tempt\n",
    "                    non=True\n",
    "                    i+=1\n",
    "                    break\n",
    "            \n",
    "            if non == False:\n",
    "                for j in range(i,m):\n",
    "                    M = np.eye(m+1)\n",
    "                    M[:i, j+1] = -A[:i, j]\n",
    "                    M1 = np.eye(m+1);\n",
    "                    M1[:i, j+1] = A[:i, j]\n",
    "                    A = M@A@M1\n",
    "                    back = back@M1\n",
    "          \n",
    "                tt = False\n",
    "                for j in range(i-1,-1,-1):               \n",
    "                    if A[j, m] != 0:\n",
    "                        M = np.eye(m+1)\n",
    "                        x = M[i:m+1, :]\n",
    "                        y = M[i-1, :]\n",
    "                        M = np.vstack((M[:i-1, :], x, y))\n",
    "                        M1 = M.T\n",
    "                        A = M@A@M1\n",
    "                        back = back@M1\n",
    "                        i = m+1\n",
    "                        tt = True\n",
    "                        break\n",
    "                if tt == False:\n",
    "                    X = A[i:m+1, i:m+1]\n",
    "                    k,_ = X.shape\n",
    "                    v = findvalue(X)\n",
    "                    \n",
    "                    m = i-1\n",
    "                    A = A[:m+1, :m+1]\n",
    "                    back = np.eye(m+1)\n",
    "            \n",
    "                \n",
    "        i-=1\n",
    "    X=A[i:m+1,i:m+1]\n",
    "    \n",
    "    p=findvalue(X)\n",
    "    \n",
    "    k,_=X.shape\n",
    "    \n",
    "    u=np.eye(n)\n",
    "    for i in range(len(p)):\n",
    "        gt=1\n",
    "        y=[1]\n",
    "        for j in range(k-1):\n",
    "            gt=gt*p[i]\n",
    "            y.append(gt)\n",
    "        y.reverse()\n",
    "        y=np.array(y).reshape(-1,1)\n",
    "        \n",
    "        y=back@y\n",
    "        y=y/sumsquare(y)\n",
    "        \n",
    "        u[:len(y),i]=y.reshape(-1)\n",
    "        \n",
    "      \n",
    "    return A,p,u\n",
    "    \n",
    "def findvalue(A):\n",
    "    p=-A[0,:]\n",
    "    u=np.hstack((1,p))\n",
    "    u=np.roots(u)\n",
    "    return u\n",
    "def sumsquare(y):\n",
    "    tong=0\n",
    "    for i in range(len(y)):\n",
    "        tong+=y[i]**2\n",
    "    return np.sqrt(tong)\n",
    "def SVD(A):\n",
    "    _,p,v=danhilepski(A.T@A)\n",
    "    m,n=A.shape\n",
    "    U=np.eye(m)\n",
    "    sigma=np.zeros((m,n))\n",
    "    V=np.eye(n)\n",
    "    for i in range(len(v)):\n",
    "        if i==0:\n",
    "            V[:,i]=-v[:,i]\n",
    "        else :         \n",
    "            V[:,i]=v[:,i]\n",
    "    for i in range(min(len(U),len(V))):\n",
    "        U[i,:]=(A@V[:,i])/(np.sqrt(p[i]))\n",
    "    for i in range(len(p)):\n",
    "        sigma[i,i]=np.sqrt(p[i])\n",
    "    with open(outputfile_name,'w') as f:\n",
    "        f.write('U = ')\n",
    "        np.savetxt(outputfile_name,U)\n",
    "        f.write('\\n')\n",
    "        f.write('Sigma = ')\n",
    "        np.savetxt(outputfile_name,sigma)\n",
    "        f.write('\\n')\n",
    "        f.write('V.T = ')\n",
    "        np.savetxt(outputfile_name,V)\n",
    "        f.close()\n",
    "    return U,sigma,V\n",
    "    \n",
    "            \n",
    "        \n",
    "       \n",
    "    "
   ]
  },
  {
   "cell_type": "code",
   "execution_count": 6,
   "metadata": {},
   "outputs": [],
   "source": [
    "U,sigma,V=SVD(A)"
   ]
  },
  {
   "cell_type": "code",
   "execution_count": 7,
   "metadata": {},
   "outputs": [
    {
     "name": "stdout",
     "output_type": "stream",
     "text": [
      "[[-0.81741556 -0.57604844  0.          0.        ]\n",
      " [-0.57604844  0.81741556  0.          0.        ]\n",
      " [ 0.          0.          1.          0.        ]\n",
      " [ 0.          0.          0.          1.        ]]\n",
      "[[5.4649857  0.        ]\n",
      " [0.         0.36596619]\n",
      " [0.         0.        ]\n",
      " [0.         0.        ]]\n",
      "[[-0.40455358 -0.9145143 ]\n",
      " [-0.9145143   0.40455358]]\n"
     ]
    }
   ],
   "source": [
    "print(U)\n",
    "print(sigma)\n",
    "print(V)"
   ]
  },
  {
   "cell_type": "code",
   "execution_count": 8,
   "metadata": {},
   "outputs": [
    {
     "data": {
      "text/plain": [
       "(array([[-0.81741556, -0.57604844,  0.        ,  0.        ],\n",
       "        [-0.57604844,  0.81741556,  0.        ,  0.        ],\n",
       "        [ 0.        ,  0.        ,  1.        ,  0.        ],\n",
       "        [ 0.        ,  0.        ,  0.        ,  1.        ]]),\n",
       " array([5.4649857 , 0.36596619]),\n",
       " array([[-0.40455358, -0.9145143 ],\n",
       "        [-0.9145143 ,  0.40455358]]))"
      ]
     },
     "execution_count": 8,
     "metadata": {},
     "output_type": "execute_result"
    }
   ],
   "source": [
    "a,b,c=np.linalg.svd(A)\n",
    "np.linalg.svd(A)"
   ]
  },
  {
   "cell_type": "code",
   "execution_count": 9,
   "metadata": {},
   "outputs": [
    {
     "data": {
      "text/plain": [
       "array([[ 5., 11.],\n",
       "       [11., 25.]])"
      ]
     },
     "execution_count": 9,
     "metadata": {},
     "output_type": "execute_result"
    }
   ],
   "source": [
    "A.T@A"
   ]
  },
  {
   "cell_type": "code",
   "execution_count": null,
   "metadata": {},
   "outputs": [],
   "source": []
  }
 ],
 "metadata": {
  "kernelspec": {
   "display_name": "Python 3",
   "language": "python",
   "name": "python3"
  },
  "language_info": {
   "codemirror_mode": {
    "name": "ipython",
    "version": 3
   },
   "file_extension": ".py",
   "mimetype": "text/x-python",
   "name": "python",
   "nbconvert_exporter": "python",
   "pygments_lexer": "ipython3",
   "version": "3.7.4"
  }
 },
 "nbformat": 4,
 "nbformat_minor": 2
}
