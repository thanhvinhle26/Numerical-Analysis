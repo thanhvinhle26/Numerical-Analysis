{
 "cells": [
  {
   "cell_type": "code",
   "execution_count": 158,
   "metadata": {},
   "outputs": [],
   "source": [
    "import numpy as np\n",
    "file_name='input.txt'\n",
    "outputfile_name='output.txt'\n",
    "def open_file(file_name):\n",
    "    A=[]\n",
    "    with open(file_name,\"r\") as file:\n",
    "        n=int(file.readline()[0])\n",
    "        for _ in range(n):\n",
    "            line=file.readline()[:-1]\n",
    "            A.append(list(map(lambda x:float(x),line.split(\" \"))))\n",
    "    return np.array(A),n\n",
    "A_B,n=open_file(file_name)\n",
    "A=A_B[:,:n]\n",
    "B=A_B[:,-1]"
   ]
  },
  {
   "cell_type": "code",
   "execution_count": 159,
   "metadata": {},
   "outputs": [],
   "source": [
    "\n",
    "def LU(A):\n",
    "    n,_=A.shape\n",
    "    A=np.asanyarray(A,dtype='complex')\n",
    "    A=A.T@A\n",
    "    S_upper=np.zeros((n,n),dtype='complex')\n",
    "    S_upper[0,0]=np.sqrt(A[0,0])\n",
    "    for i in range(n):\n",
    "        for j in range(i,n,1):\n",
    "            \n",
    "            if i==0 and j!=0:\n",
    "                S_upper[i,j]=A[i,j]/S_upper[0,0]\n",
    "            if i!=0:\n",
    "                if i==j:\n",
    "                    sum_temp=0\n",
    "                    for k in range(i):\n",
    "                        \n",
    "                        sum_temp+=S_upper[k,i]**2\n",
    "                                             \n",
    "                    temp=A[i,j]-sum_temp\n",
    "                    \n",
    "                    S_upper[i,j]=np.sqrt(A[i,j]-sum_temp)\n",
    "                    \n",
    "                else :\n",
    "                    sum_temp=0\n",
    "                    for k in range(i):\n",
    "                        sum_temp+=S_upper[k,i]*S_upper[k,j]\n",
    "                    S_upper[i,j]=(A[i,j]-sum_temp)/S_upper[i,i]\n",
    "    return S_upper\n",
    "\n",
    "def solepski(A,B):\n",
    "    n,_=A.shape\n",
    "    S_upper=LU(A)\n",
    "    S_lower=S_upper.T\n",
    "    tempt_B=A.T@B\n",
    "    y=np.zeros(n)\n",
    "    y[0]=tempt_B[0]/S_upper[0,0]\n",
    "    for i in range(1,n,1):\n",
    "        temp_sum=0\n",
    "        for k in range(i):\n",
    "            temp_sum+=S_upper[k,i]*y[k]\n",
    "        y[i]=(tempt_B[i]-temp_sum)/S_upper[i,i]\n",
    "    x=np.zeros(n)\n",
    "    x[n-1]=y[n-1]/S_upper[n-1,n-1]\n",
    "    for i in range(n-2,-1,-1):\n",
    "        temp_sum=0\n",
    "        for k in range(i+1,n,1):\n",
    "            temp_sum+=S_upper[i,k]*x[k]\n",
    "        x[i]=(y[i]-temp_sum)/S_upper[i,i]\n",
    "    return x\n",
    "            \n",
    "        \n",
    "            \n",
    "    \n",
    "    \n",
    "            \n",
    "            "
   ]
  },
  {
   "cell_type": "code",
   "execution_count": 160,
   "metadata": {},
   "outputs": [
    {
     "data": {
      "text/plain": [
       "array([[ 4.24264069+0.j,  7.30677007+0.j, -6.36396103+0.j,\n",
       "         0.23570226+0.j, -5.42115199+0.j],\n",
       "       [ 0.        +0.j,  2.5712081 +0.j, -0.97230559+0.j,\n",
       "         3.21941183+0.j,  1.01551917+0.j],\n",
       "       [ 0.        +0.j,  0.        +0.j,  2.134156  +0.j,\n",
       "        -4.85894559+0.j, -3.05160683+0.j],\n",
       "       [ 0.        +0.j,  0.        +0.j,  0.        +0.j,\n",
       "         2.22945727+0.j,  1.42672024+0.j],\n",
       "       [ 0.        +0.j,  0.        +0.j,  0.        +0.j,\n",
       "         0.        +0.j,  0.4816607 +0.j]])"
      ]
     },
     "execution_count": 160,
     "metadata": {},
     "output_type": "execute_result"
    }
   ],
   "source": [
    "LU(A)"
   ]
  },
  {
   "cell_type": "code",
   "execution_count": 161,
   "metadata": {},
   "outputs": [
    {
     "name": "stderr",
     "output_type": "stream",
     "text": [
      "C:\\Users\\HH\\Anaconda3\\lib\\site-packages\\ipykernel_launcher.py:36: ComplexWarning: Casting complex values to real discards the imaginary part\n",
      "C:\\Users\\HH\\Anaconda3\\lib\\site-packages\\ipykernel_launcher.py:41: ComplexWarning: Casting complex values to real discards the imaginary part\n",
      "C:\\Users\\HH\\Anaconda3\\lib\\site-packages\\ipykernel_launcher.py:43: ComplexWarning: Casting complex values to real discards the imaginary part\n",
      "C:\\Users\\HH\\Anaconda3\\lib\\site-packages\\ipykernel_launcher.py:48: ComplexWarning: Casting complex values to real discards the imaginary part\n"
     ]
    },
    {
     "data": {
      "text/plain": [
       "array([-6.1, -2.2, -6.8, -0.9,  0.2])"
      ]
     },
     "execution_count": 161,
     "metadata": {},
     "output_type": "execute_result"
    }
   ],
   "source": [
    "solepski(A,B)"
   ]
  },
  {
   "cell_type": "code",
   "execution_count": null,
   "metadata": {},
   "outputs": [],
   "source": []
  }
 ],
 "metadata": {
  "kernelspec": {
   "display_name": "Python 3",
   "language": "python",
   "name": "python3"
  },
  "language_info": {
   "codemirror_mode": {
    "name": "ipython",
    "version": 3
   },
   "file_extension": ".py",
   "mimetype": "text/x-python",
   "name": "python",
   "nbconvert_exporter": "python",
   "pygments_lexer": "ipython3",
   "version": "3.7.4"
  }
 },
 "nbformat": 4,
 "nbformat_minor": 2
}
