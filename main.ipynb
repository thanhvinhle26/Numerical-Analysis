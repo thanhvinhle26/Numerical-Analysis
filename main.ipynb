{
 "cells": [
  {
   "cell_type": "code",
   "execution_count": 9,
   "metadata": {},
   "outputs": [],
   "source": [
    "import numpy as np\n",
    "import matplotlib.pyplot as plt\n",
    "import math\n",
    "def u(x):\n",
    "    return 1\n",
    "def  u1(x):\n",
    "    return x\n",
    "def u2(x):\n",
    "    return x**2\n",
    "def u3(x):\n",
    "    return x**3\n",
    "def u4(x):\n",
    "    return x**4\n",
    "def sin(x):\n",
    "    return math.sin(x)\n",
    "def cos(x):\n",
    "    return math.cos(x)\n",
    "def checkinput(x,y):\n",
    "    m,n=len(x),len(y)\n",
    "    if m!=n:\n",
    "        print('Check input')\n",
    "    else:\n",
    "        print('Input satisfied')\n",
    "def plot_input(x,y):\n",
    "    plt.scatter(x,y,s=30,cmap='palete')\n",
    "    \n",
    "def pack1(u,x):\n",
    "    result=[]\n",
    "    for i in range(len(u)):\n",
    "        temp=list(map(u[i],x))\n",
    "        result.append(temp)\n",
    "    return np.array(result).T\n",
    "def pack2(theta):\n",
    "    return theta.T@theta\n",
    "#Dùng viền quanh để tính nghịch đảo của M    \n",
    "def vienquanh_inverse(A):\n",
    "    n,_=A.shape\n",
    "    if n==1:\n",
    "        return 1/A\n",
    "    elif n>1:\n",
    "        start=1/A[0,0]\n",
    "        for i in range(n-1):\n",
    "            alpha11=start\n",
    "            alpha12=A[:(i+1),i+1].reshape(i+1,1)\n",
    "            alpha21=A[i+1,:i+1]\n",
    "            alpha22=A[i+1,i+1]\n",
    "            if i==0:\n",
    "                X=alpha11*alpha12\n",
    "            else :\n",
    "                X=alpha11@alpha12\n",
    "            if i==0:\n",
    "                Y=alpha21*alpha11\n",
    "            else :\n",
    "                Y=alpha21@alpha11\n",
    "                Y=Y.reshape(1,-1)\n",
    "            if i==0:\n",
    "                theta=alpha22-Y*alpha12\n",
    "            else :\n",
    "                theta=alpha22-Y@alpha12           \n",
    "            if i==0:\n",
    "                beta11=alpha11+(1/theta)*(X*Y)\n",
    "            else :\n",
    "                beta11=alpha11+(1/theta)*(X@Y)            \n",
    "            beta12=-(1/theta)*X\n",
    "            beta21=-(1/theta)*Y\n",
    "            beta22=1/theta\n",
    "            tempt_result=np.vstack((np.hstack((beta11,beta12)),np.hstack((beta21,beta22))))\n",
    "            start=tempt_result\n",
    "            np.savetxt('output.txt',tempt_result)    \n",
    "        return tempt_result\n",
    "def pack3(theta,M,y):\n",
    "    return vienquanh_inverse(M)@theta.T@y\n",
    "def graphord2(x,y,a):\n",
    "    x_test=np.linspace(min(x),max(x),100000)\n",
    "    y_test=np.array(list(map(lambda x:a[0]+a[1]*x+a[2]*(x**2),x_test)))\n",
    "    plt.scatter(x,y,s=30,cmap='palete')\n",
    "    plt.plot(x_test,y_test,'r')\n",
    "    \n"
   ]
  },
  {
   "cell_type": "code",
   "execution_count": 10,
   "metadata": {},
   "outputs": [],
   "source": [
    "A=np.array([[0.78,2.5],[1.4,1.2],[2.34,1.12],[3,2.25],[3.81,4.28]])\n",
    "x=A[:,0]\n",
    "y=A[:,1]"
   ]
  },
  {
   "cell_type": "code",
   "execution_count": 11,
   "metadata": {},
   "outputs": [
    {
     "name": "stdout",
     "output_type": "stream",
     "text": [
      "Input satisfied\n"
     ]
    }
   ],
   "source": [
    "checkinput(x,y)"
   ]
  },
  {
   "cell_type": "code",
   "execution_count": 12,
   "metadata": {},
   "outputs": [
    {
     "data": {
      "image/png": "[encoded data removed]",
      "text/plain": [
       "<Figure size 432x288 with 1 Axes>"
      ]
     },
     "metadata": {
      "needs_background": "light"
     },
     "output_type": "display_data"
    }
   ],
   "source": [
    "plot_input(x,y)"
   ]
  },
  {
   "cell_type": "code",
   "execution_count": 18,
   "metadata": {},
   "outputs": [],
   "source": [
    "u=[u,u1,u3]"
   ]
  },
  {
   "cell_type": "code",
   "execution_count": 19,
   "metadata": {},
   "outputs": [
    {
     "ename": "TypeError",
     "evalue": "'list' object is not callable",
     "output_type": "error",
     "traceback": [
      "\u001b[1;31m---------------------------------------------------------------------------\u001b[0m",
      "\u001b[1;31mTypeError\u001b[0m                                 Traceback (most recent call last)",
      "\u001b[1;32m<ipython-input-19-2f4a4844cc26>\u001b[0m in \u001b[0;36m<module>\u001b[1;34m\u001b[0m\n\u001b[1;32m----> 1\u001b[1;33m \u001b[0mtheta\u001b[0m\u001b[1;33m=\u001b[0m\u001b[0mpack1\u001b[0m\u001b[1;33m(\u001b[0m\u001b[0mu\u001b[0m\u001b[1;33m,\u001b[0m\u001b[0mx\u001b[0m\u001b[1;33m)\u001b[0m\u001b[1;33m\u001b[0m\u001b[1;33m\u001b[0m\u001b[0m\n\u001b[0m\u001b[0;32m      2\u001b[0m \u001b[0mprint\u001b[0m\u001b[1;33m(\u001b[0m\u001b[0mtheta\u001b[0m\u001b[1;33m)\u001b[0m\u001b[1;33m\u001b[0m\u001b[1;33m\u001b[0m\u001b[0m\n",
      "\u001b[1;32m<ipython-input-9-5213c1d0b13d>\u001b[0m in \u001b[0;36mpack1\u001b[1;34m(u, x)\u001b[0m\n\u001b[0;32m     28\u001b[0m     \u001b[0mresult\u001b[0m\u001b[1;33m=\u001b[0m\u001b[1;33m[\u001b[0m\u001b[1;33m]\u001b[0m\u001b[1;33m\u001b[0m\u001b[1;33m\u001b[0m\u001b[0m\n\u001b[0;32m     29\u001b[0m     \u001b[1;32mfor\u001b[0m \u001b[0mi\u001b[0m \u001b[1;32min\u001b[0m \u001b[0mrange\u001b[0m\u001b[1;33m(\u001b[0m\u001b[0mlen\u001b[0m\u001b[1;33m(\u001b[0m\u001b[0mu\u001b[0m\u001b[1;33m)\u001b[0m\u001b[1;33m)\u001b[0m\u001b[1;33m:\u001b[0m\u001b[1;33m\u001b[0m\u001b[1;33m\u001b[0m\u001b[0m\n\u001b[1;32m---> 30\u001b[1;33m         \u001b[0mtemp\u001b[0m\u001b[1;33m=\u001b[0m\u001b[0mlist\u001b[0m\u001b[1;33m(\u001b[0m\u001b[0mmap\u001b[0m\u001b[1;33m(\u001b[0m\u001b[0mu\u001b[0m\u001b[1;33m[\u001b[0m\u001b[0mi\u001b[0m\u001b[1;33m]\u001b[0m\u001b[1;33m,\u001b[0m\u001b[0mx\u001b[0m\u001b[1;33m)\u001b[0m\u001b[1;33m)\u001b[0m\u001b[1;33m\u001b[0m\u001b[1;33m\u001b[0m\u001b[0m\n\u001b[0m\u001b[0;32m     31\u001b[0m         \u001b[0mresult\u001b[0m\u001b[1;33m.\u001b[0m\u001b[0mappend\u001b[0m\u001b[1;33m(\u001b[0m\u001b[0mtemp\u001b[0m\u001b[1;33m)\u001b[0m\u001b[1;33m\u001b[0m\u001b[1;33m\u001b[0m\u001b[0m\n\u001b[0;32m     32\u001b[0m     \u001b[1;32mreturn\u001b[0m \u001b[0mnp\u001b[0m\u001b[1;33m.\u001b[0m\u001b[0marray\u001b[0m\u001b[1;33m(\u001b[0m\u001b[0mresult\u001b[0m\u001b[1;33m)\u001b[0m\u001b[1;33m.\u001b[0m\u001b[0mT\u001b[0m\u001b[1;33m\u001b[0m\u001b[1;33m\u001b[0m\u001b[0m\n",
      "\u001b[1;31mTypeError\u001b[0m: 'list' object is not callable"
     ]
    }
   ],
   "source": [
    "theta=pack1(u,x)\n",
    "print(theta)"
   ]
  },
  {
   "cell_type": "code",
   "execution_count": 15,
   "metadata": {},
   "outputs": [
    {
     "name": "stdout",
     "output_type": "stream",
     "text": [
      "[[  5.          11.33        31.5601    ]\n",
      " [ 11.33        31.5601      98.337797  ]\n",
      " [ 31.5601      98.337797   325.91110513]]\n"
     ]
    }
   ],
   "source": [
    "M=pack2(theta)\n",
    "print(M)"
   ]
  },
  {
   "cell_type": "code",
   "execution_count": 16,
   "metadata": {},
   "outputs": [
    {
     "name": "stdout",
     "output_type": "stream",
     "text": [
      "[ 4.82381599 -3.85815444  0.98047249]\n"
     ]
    }
   ],
   "source": [
    "a=pack3(theta,M,y)\n",
    "print(a)"
   ]
  },
  {
   "cell_type": "code",
   "execution_count": 17,
   "metadata": {},
   "outputs": [
    {
     "data": {
      "image/png": "[encoded data removed]",
      "text/plain": [
       "<Figure size 432x288 with 1 Axes>"
      ]
     },
     "metadata": {
      "needs_background": "light"
     },
     "output_type": "display_data"
    }
   ],
   "source": [
    "graphord2(x,y,a)\n",
    "    "
   ]
  },
  {
   "cell_type": "code",
   "execution_count": null,
   "metadata": {},
   "outputs": [],
   "source": []
  }
 ],
 "metadata": {
  "kernelspec": {
   "display_name": "Python 3",
   "language": "python",
   "name": "python3"
  },
  "language_info": {
   "codemirror_mode": {
    "name": "ipython",
    "version": 3
   },
   "file_extension": ".py",
   "mimetype": "text/x-python",
   "name": "python",
   "nbconvert_exporter": "python",
   "pygments_lexer": "ipython3",
   "version": "3.7.4"
  }
 },
 "nbformat": 4,
 "nbformat_minor": 2
}
